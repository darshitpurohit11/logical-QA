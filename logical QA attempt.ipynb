{
 "cells": [
  {
   "cell_type": "code",
   "execution_count": 1,
   "id": "be56503c",
   "metadata": {},
   "outputs": [],
   "source": [
    "import pprint"
   ]
  },
  {
   "cell_type": "code",
   "execution_count": 9,
   "id": "ea2f5b1b",
   "metadata": {},
   "outputs": [],
   "source": [
    "import pprint\n",
    "class Inventory:\n",
    "    def __init__(self):\n",
    "        self.inventory = {}\n",
    "    \n",
    "    def add_product(self, product_name, quantity):\n",
    "        if product_name in self.inventory.keys():\n",
    "            self.inventory[product_name] += quantity\n",
    "        else:\n",
    "            self.inventory[product_name] = quantity\n",
    "            \n",
    "    def remove_product(self, product_name, quantity):\n",
    "        if product_name in self.inventory.keys():\n",
    "            if self.inventory[product_name] < quantity:\n",
    "                raise Exception(f\"Invalid request, only {quantity} of the {product_name} are in stock.\")\n",
    "            else:\n",
    "                self.inventory[product_name] = self.inventory[product_name] - quantity\n",
    "        else:\n",
    "            raise Exception(f\"{product_name} out of stock.\")\n",
    "            \n",
    "    def display_inventory(self):\n",
    "        pprint.pprint(self.inventory)\n",
    "    \n",
    "    def check_stock(self, product_name):\n",
    "        if product_name in self.inventory.keys():\n",
    "            available_quantity = self.inventory[product_name]\n",
    "            print(f\"{available_quantity} quantity in stock for {product_name}\")\n",
    "        else:\n",
    "            print(f\"{product_name} is out of stock.\")\n",
    "    "
   ]
  },
  {
   "cell_type": "code",
   "execution_count": 4,
   "id": "825bcf52",
   "metadata": {},
   "outputs": [],
   "source": [
    "invetntory = Inventory()"
   ]
  },
  {
   "cell_type": "code",
   "execution_count": 15,
   "id": "a0c50052",
   "metadata": {},
   "outputs": [],
   "source": [
    "invetntory.add_product(\"pin\", 5)"
   ]
  },
  {
   "cell_type": "code",
   "execution_count": 16,
   "id": "da424b6c",
   "metadata": {},
   "outputs": [
    {
     "name": "stdout",
     "output_type": "stream",
     "text": [
      "{'Bong': 5, 'ghee': 0, 'pin': 0}\n"
     ]
    }
   ],
   "source": [
    "invetntory.display_inventory()"
   ]
  },
  {
   "cell_type": "code",
   "execution_count": 13,
   "id": "3d8a9b25",
   "metadata": {},
   "outputs": [
    {
     "name": "stdout",
     "output_type": "stream",
     "text": [
      "5 quantity in stock for Bong\n"
     ]
    }
   ],
   "source": [
    "invetntory.check_stock(\"Bong\")"
   ]
  },
  {
   "cell_type": "code",
   "execution_count": null,
   "id": "ae48673d",
   "metadata": {},
   "outputs": [],
   "source": []
  },
  {
   "cell_type": "code",
   "execution_count": null,
   "id": "1c2807f5",
   "metadata": {},
   "outputs": [],
   "source": []
  },
  {
   "cell_type": "code",
   "execution_count": null,
   "id": "4a5d6183",
   "metadata": {},
   "outputs": [],
   "source": []
  },
  {
   "cell_type": "code",
   "execution_count": null,
   "id": "61f7310b",
   "metadata": {},
   "outputs": [],
   "source": [
    "class Item:\n",
    "    def __intit__(self):\n",
    "        self.items_dict = {'name':[], 'price':[], 'quantity':[]}\n",
    "    \n",
    "    def update_quantity(self, item, new_quantity):\n",
    "        if item in self.items_dict['name']:\n",
    "            item_index = self.items_dict['name'].index(item)\n",
    "            self.items_dict['quantity'][item_index] += new_quantity\n",
    "            print(f\"Quantity for {item} increased.\")\n",
    "        else:\n",
    "            self.items_dict['name'].append(item)\n",
    "            one = 1 # default quantity when inserted to the cart\n",
    "            self.items_dict['quantity'].append(new_quantity)\n",
    "            print(f\"{item} added to the cart.\")\n",
    "        \n",
    "class ShoppingCart:\n",
    "    def __intit__(self):\n",
    "        self.items = []\n",
    "        self.item = Item()\n",
    "        self.add_quantity = 1\n",
    "    \n",
    "    def add_item(self, item):\n",
    "        if item in items:\n",
    "            print(\"Item already in the cart, increasing the quantity\")\n",
    "            self.item.update_quantity(item, self.add_quantity)\n",
    "        else:\n",
    "            self.items.append(item)\n",
    "            return item\n",
    "    \n",
    "    def remove_item(self, item_name):\n",
    "        if item in items:\n",
    "            self.items.remove(item)\n",
    "            return item\n",
    "        else:\n",
    "            raise Exception(f\"{item} not in the cart.\")\n",
    "    \n",
    "    def calculate_total(self):\n",
    "        pass\n",
    "    \n",
    "    def list_items(self):\n",
    "        if len(self.items) == 0:\n",
    "            raise Exception(\"Shopping cart is empty.\")\n",
    "        else:\n",
    "            print(self.items)"
   ]
  },
  {
   "cell_type": "code",
   "execution_count": 20,
   "id": "d8b30763",
   "metadata": {},
   "outputs": [],
   "source": [
    "i = [1,2,3,4]"
   ]
  },
  {
   "cell_type": "code",
   "execution_count": 18,
   "id": "8f29ad0b",
   "metadata": {},
   "outputs": [],
   "source": [
    "i.remove(1)"
   ]
  },
  {
   "cell_type": "code",
   "execution_count": 22,
   "id": "c4a931aa",
   "metadata": {},
   "outputs": [
    {
     "name": "stdout",
     "output_type": "stream",
     "text": [
      "[1, 2, 3, 4]\n"
     ]
    }
   ],
   "source": [
    "import pprint\n",
    "\n",
    "pprint.pprint(i)"
   ]
  },
  {
   "cell_type": "code",
   "execution_count": null,
   "id": "837431f6",
   "metadata": {},
   "outputs": [],
   "source": []
  },
  {
   "cell_type": "code",
   "execution_count": null,
   "id": "905c294c",
   "metadata": {},
   "outputs": [],
   "source": [
    "import pprint\n",
    "\n",
    "class ShoppingCart:\n",
    "    def __init__(self):\n",
    "        self.items = {}\n",
    "    \n",
    "    def add_item(self,name, quantity, price):\n",
    "        if name in self.items:\n",
    "            self.items[name]['quantity'] += quantity\n",
    "            self.items[name]['price'] = price\n",
    "            print(f\"quantity for {name} is increased\")\n",
    "        else:\n",
    "            self.items[name] = {'quantity':quantity,\n",
    "                               'price':price}\n",
    "            print(f\"{name} added in the cart.)\n",
    "    \n",
    "    def update_item(self,name, quantity):\n",
    "        if name in self.items:\n",
    "            self.items[name]['quantity'] = quantity\n",
    "                  print(f\"quantity for {name} updated\")\n",
    "        else:\n",
    "            raise Exception(f\"{name} is not in the Cart.\")\n",
    "                  \n",
    "    def remove_item(self, name):\n",
    "        if name in self.items:\n",
    "                  self.items.pop(name)\n",
    "                  print(f\" {name} removed from the Cart.\")\n",
    "        else:\n",
    "                  raise Exception(f\"{name} is not in the Cart.\")\n",
    "                  \n",
    "    \n",
    "    def view_cart():\n",
    "        pprint.pprint(self.items)"
   ]
  },
  {
   "cell_type": "code",
   "execution_count": 23,
   "id": "10880197",
   "metadata": {},
   "outputs": [],
   "source": [
    "d={1:2}"
   ]
  },
  {
   "cell_type": "code",
   "execution_count": 29,
   "id": "281cc682",
   "metadata": {},
   "outputs": [
    {
     "data": {
      "text/plain": [
       "2"
      ]
     },
     "execution_count": 29,
     "metadata": {},
     "output_type": "execute_result"
    }
   ],
   "source": [
    "d.pop(1)"
   ]
  },
  {
   "cell_type": "code",
   "execution_count": 30,
   "id": "09f80ef2",
   "metadata": {},
   "outputs": [
    {
     "data": {
      "text/plain": [
       "{}"
      ]
     },
     "execution_count": 30,
     "metadata": {},
     "output_type": "execute_result"
    }
   ],
   "source": [
    "d"
   ]
  }
 ],
 "metadata": {
  "kernelspec": {
   "display_name": "Python 3 (ipykernel)",
   "language": "python",
   "name": "python3"
  },
  "language_info": {
   "codemirror_mode": {
    "name": "ipython",
    "version": 3
   },
   "file_extension": ".py",
   "mimetype": "text/x-python",
   "name": "python",
   "nbconvert_exporter": "python",
   "pygments_lexer": "ipython3",
   "version": "3.11.5"
  }
 },
 "nbformat": 4,
 "nbformat_minor": 5
}
